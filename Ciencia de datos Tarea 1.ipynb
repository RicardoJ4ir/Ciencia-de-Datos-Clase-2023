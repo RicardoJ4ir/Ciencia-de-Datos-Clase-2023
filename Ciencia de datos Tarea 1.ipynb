{
 "cells": [
  {
   "cell_type": "markdown",
   "id": "b60ca75a",
   "metadata": {},
   "source": [
    "## Ejercicio 1:\n",
    "### En una celda Markdown contesta:"
   ]
  },
  {
   "cell_type": "markdown",
   "id": "6733498e",
   "metadata": {},
   "source": [
    "#### ¿Qué es una palabra reservada en python? Enlista 5 ejemplos de nombres reservados en python y describe su función.\n",
    "\n",
    "Las palabras reservadas son palabras que se definen con un significado y una sintaxis predefinidos en python. \n",
    "Estas palabras no se pueden usar como identificadores para otros elementos en el programa, como para el \n",
    "nombre de variables, funciones, etc. Algunos ejemplos son\n",
    "\n",
    "1.-  False. Es un operador booleano que representa lo contrario de True (Verdadero)\n",
    "\n",
    "2.- def. La función def se usa para definir una función o un método en Python.\n",
    "\n",
    "3.- If. Se usa para hacer una declaración condicional. Si la condición es verdadera, entonces se realiza alguna acción.\n",
    "\n",
    "4.- None. El None es un objeto que representa la ausencia de un valor, es como un objeto vacío.\n",
    "\n",
    "5.- import. Esta palabra se utiliza para importar librerias a un proyecto.\n",
    "\n",
    "#### Coloca tres ejemplos de nombres de variables que no son válidos en python. Explica por qué no son válidos.\n",
    "\n",
    "1.- numero 1 = 7. No es valido pues lleva un espacio en blanco dentro del nombre de la variable.\n",
    "\n",
    "2.- .perro . Ésta no es valida pues tiene que empezar por una letra o una barra baja.\n",
    "\n",
    "3.- False_2. No es valida pues se está haciendo uso de una palabra reservada.\n"
   ]
  },
  {
   "cell_type": "markdown",
   "id": "293e24bc",
   "metadata": {},
   "source": [
    "## Ejercicio 2:\n",
    "### En una celda de código, escribe una función que encuentre las raíces de cualquier polinomio de segundo grado (implementar la chicharronera). \n",
    "### En una celda markdown detalla posibles casos en la cual la función podría fallar. \n",
    "### Usa dicha función para encontrar las raíces del polinomio $f(x)=10x^2-2x $ e imprimelas en pantalla."
   ]
  },
  {
   "cell_type": "code",
   "execution_count": 129,
   "id": "6d7a7ec0",
   "metadata": {},
   "outputs": [],
   "source": [
    "def chicharronera(a=1,b=0,c=0):\n",
    "    \"\"\" \n",
    "    Esta función es para dar las raíces de una ecuación cuadratica de segundo grado. Toma tres argumentos, \n",
    "    el primero es el coeficiente cuadratico de la función, el segundo argumento es\n",
    "    para el coeficiente lineal y el tercer argumento toma el coeficiente independiente\n",
    "    Y sus valores predeterminados son a = 1, b = c =0\n",
    "    \"\"\"\n",
    "    return (-b + (b**2 - 4*a*c)**(1/2))/(2*a),(-b - (b**2 - 4*a*c)**(1/2))/(2*a)"
   ]
  },
  {
   "cell_type": "markdown",
   "id": "7c6cc3de",
   "metadata": {},
   "source": [
    "La función puede fallar si se tratara de una función lineal, pues en este caso el coeficiente cuadratico sería cero y en la función nos topariamos con una división por cero, lo cual está indeterminado. \n",
    "Otro posible error es si hubieramos usado la paquetería math y usado la función sqrt, pues esta no contiene como dominio a los complejos, este error lo evitamos al definir la raíz cuadrada como una potencia."
   ]
  },
  {
   "cell_type": "code",
   "execution_count": 130,
   "id": "0cc55d76",
   "metadata": {},
   "outputs": [
    {
     "name": "stdout",
     "output_type": "stream",
     "text": [
      "Las soluciones son (0.2, 0.0)\n"
     ]
    }
   ],
   "source": [
    "print(\"Las soluciones son\", chicharronera(10,-2))"
   ]
  },
  {
   "cell_type": "markdown",
   "id": "30e3b152",
   "metadata": {},
   "source": [
    "## Ejercicio 3:\n",
    "### Caida libre: El gran Galileo Galilei subió la torre de Pisa para determinar el tiempo que tarda un objeto en caer desde una altura $H$ al suelo. Para ello, colocó un objeto de masa $m=100$ kg en la torre y lo dejó caer. El tiempo que tardó en caer fue $t=0.05616667$ minutos.\n",
    "\n",
    "### Considerando que la aceleración de la gravedad es $g=9.8\\frac{m}{s^2}$, escribe un programa que determine la altura de la torre de Pisa. El programa debe imprimir la altura en la pantalla.\n",
    "\n",
    "### Recuerda que el movimiento de caída libre simplificado cumple la ecuación: $y(t)=H+vt-\\frac{1}{2}gt^2$\n",
    " \n",
    "."
   ]
  },
  {
   "cell_type": "code",
   "execution_count": 42,
   "id": "50862e17",
   "metadata": {},
   "outputs": [
    {
     "name": "stdout",
     "output_type": "stream",
     "text": [
      "La altura de la torre de Pisa es de: 55.65 metros\n"
     ]
    }
   ],
   "source": [
    "t_s = 0.05616667*60 #Convertimos el tiempo t de minutos a segundos\n",
    "g = 9.8 #Definimos una variable para la aceleración de la gravedad\n",
    "#Al caer la masa, esta estará en reposo, es decir, v = 0 y y(t_s)=0 pues ha llegado al suelo\n",
    "\n",
    "y_f = 0\n",
    "v_f = 0\n",
    "\n",
    "H = round(y_f - v_f*t_s + 1/2*g*t_s**2,2)\n",
    "print(f\"La altura de la torre de Pisa es de: {H} metros\")"
   ]
  },
  {
   "cell_type": "markdown",
   "id": "9a038164",
   "metadata": {},
   "source": [
    "## Ejercicio 4:\n",
    "### Crea una lista de números enteros del 0 al 99 : lista = [0,1, 2, 3, 4, ... , 95, 96, 97, 98, 99]\n",
    "### Escribe un programa que imprima en la pantalla una la lista que cumpla con las siguientes condiciones:\n",
    "\n",
    "#### $\\cdot$ Los ultimos 10 elementos: debe imprimir lo siguiente [90, 91, 92, 93, 94, 95, 96, 97, 98, 99].\n",
    "\n",
    "#### $\\cdot$ Los primeros 11 elementos: debe imprimir lo siguiente [0, 1, 2, 3, 4, 5, 6, 7, 8, 9, 10].\n",
    "\n",
    "#### $\\cdot$ La serie de elementos de la lista que están entre 60 y 75: debe imprimir lo siguiente [60, 61, 62, 63, 64, 65, 66, 67, 68, 69, 70, 71, 72, 73, 74, 75].\n",
    "\n",
    "#### $\\cdot$ El número 50: debe imprimir lo siguiente 50.\n",
    "### Debes aplicar el concepto de slicing para resolver este ejercicio (notación de puntos [:]).\n"
   ]
  },
  {
   "cell_type": "code",
   "execution_count": 45,
   "id": "abf3f7bf",
   "metadata": {},
   "outputs": [
    {
     "name": "stdout",
     "output_type": "stream",
     "text": [
      "[0, 1, 2, 3, 4, 5, 6, 7, 8, 9, 10, 11, 12, 13, 14, 15, 16, 17, 18, 19, 20, 21, 22, 23, 24, 25, 26, 27, 28, 29, 30, 31, 32, 33, 34, 35, 36, 37, 38, 39, 40, 41, 42, 43, 44, 45, 46, 47, 48, 49, 50, 51, 52, 53, 54, 55, 56, 57, 58, 59, 60, 61, 62, 63, 64, 65, 66, 67, 68, 69, 70, 71, 72, 73, 74, 75, 76, 77, 78, 79, 80, 81, 82, 83, 84, 85, 86, 87, 88, 89, 90, 91, 92, 93, 94, 95, 96, 97, 98, 99]\n"
     ]
    }
   ],
   "source": [
    "lista = list(range(100))\n",
    "print(lista)\n"
   ]
  },
  {
   "cell_type": "code",
   "execution_count": 53,
   "id": "693f08a6",
   "metadata": {},
   "outputs": [
    {
     "name": "stdout",
     "output_type": "stream",
     "text": [
      "[90, 91, 92, 93, 94, 95, 96, 97, 98, 99]\n",
      "[0, 1, 2, 3, 4, 5, 6, 7, 8, 9, 10]\n",
      "[60, 61, 62, 63, 64, 65, 66, 67, 68, 69, 70, 71, 72, 73, 74, 75]\n",
      "50\n",
      "\n"
     ]
    }
   ],
   "source": [
    "#Primer inciso\n",
    "print(lista[90:])\n",
    "#Segundo inciso\n",
    "print(lista[:11])\n",
    "#Tercer inciso\n",
    "print(lista[60:76])\n",
    "#Cuarto inciso\n",
    "print(lista[50])"
   ]
  },
  {
   "cell_type": "markdown",
   "id": "7223968e",
   "metadata": {},
   "source": [
    "## Ejercicio 5:\n",
    "### Crea una lista de números enteros del 0 al 1000. A partir de dicha lista:\n",
    "#### $\\cdot$ Guarda en una variable una lista con los números pares usando ciclos y condicionales. Imprime los últimos 10 elementos de la lista final.\n",
    "\n",
    "#### $\\cdot$ Guarda en una variable una lista con los números impares usando listas comprensivas (comprehension list). Imprime los primeros 10 elementos de la lista final.\n"
   ]
  },
  {
   "cell_type": "code",
   "execution_count": 133,
   "id": "e46507ef",
   "metadata": {},
   "outputs": [],
   "source": [
    "Lista =  list(range(1001))\n",
    "#print(Lista)"
   ]
  },
  {
   "cell_type": "code",
   "execution_count": 134,
   "id": "49ccf014",
   "metadata": {},
   "outputs": [
    {
     "name": "stdout",
     "output_type": "stream",
     "text": [
      "[982, 984, 986, 988, 990, 992, 994, 996, 998, 1000]\n",
      "[1, 3, 5, 7, 9, 11, 13, 15, 17, 19]\n"
     ]
    }
   ],
   "source": [
    "#Primer inciso\n",
    "Lista_par = []\n",
    "for i in Lista:\n",
    "    if i%2 == 0:\n",
    "        Lista_par.append(i)\n",
    "#print(Lista_par)\n",
    "print(Lista_par[491:])\n",
    "#Es apartir del elemento 491 pues en esta lista hay 501 elementos,pues incluye al cero, y a eso le restamos 10, lo que nos da 491\n",
    "\n",
    "\n",
    "#Segundo inciso\n",
    "Lista_impar = [i for i in Lista if i%2 != 0 ]\n",
    "print(Lista_impar[:10])"
   ]
  },
  {
   "cell_type": "markdown",
   "id": "3daaafc6",
   "metadata": {},
   "source": [
    "## Ejercicio 6: Aproximación de $\\pi$.\n",
    "#### Una de las formas más sencillas de aproximar $pi$ es mediante la siguiente serie infinita de Leibniz:\n",
    " $$\\frac{\\pi}{4} = \\sum_{n=0}^{\\infty} \\frac{(-1)^n}{(2n+1)} = \\frac{1}{1} - \\frac{1}{3} + \\frac{1}{5}- \\frac{1}{7} + \\frac{1}{9} - ...$$\n",
    " \n",
    "#### crea una función para aproximar $\\pi$ utilizando la serie de Leibniz. Usa $n = 100,000$ e imprime el valor de  tu aproximación tanto el valor de $\\frac{\\pi}{4}$ como $\\pi$."
   ]
  },
  {
   "cell_type": "code",
   "execution_count": 135,
   "id": "1f40f8d9",
   "metadata": {},
   "outputs": [
    {
     "name": "stdout",
     "output_type": "stream",
     "text": [
      "El valor aproximado para pi es 3.1415826535897198 y para pi cuartos es 0.7853956633974299\n",
      "Podemos comparar esto con el valor que nos da python para pi y obtenemos un error de 2.500000018335058e-06 para pi cuartos y  1.0000000073340232e-05 para pi\n"
     ]
    }
   ],
   "source": [
    "import numpy as np\n",
    "\n",
    "# Llamaremos a S a nuestra serie:\n",
    "\n",
    "def aprox_pi(n):\n",
    "    S = 0\n",
    "    for i in range(n):\n",
    "        S += ((-1)**i)/(2*i+1)\n",
    "    return 4*S\n",
    "\n",
    "print(f\"El valor aproximado para pi es {aprox_pi(100000)} y para pi cuartos es {aprox_pi(100000)/4}\")\n",
    "print(\"Podemos comparar esto con el valor que nos da python para pi y obtenemos un error de\", np.abs(aprox_pi(100000)/4-np.pi/4), \"para pi cuartos y \",\n",
    "     np.abs(aprox_pi(100000)-np.pi),\"para pi\") \n"
   ]
  },
  {
   "cell_type": "markdown",
   "id": "60fc085b",
   "metadata": {},
   "source": [
    "## Ejercicio 7: Identificador de vocales\n",
    "#### Escribe una función que reciba una cadena, por ejemplo 'el pErro de la tiA chOnita' y regrese la cantidad de vocales que contiene. La función debe contener varios casos de prueba, if, elif y else. Con la cadena de ejemplo, imprime en pantalla el resultado de la función (10).\n",
    "\n",
    "#### Para conocer si un caracter es una vocal, primero debes descomponer la cadena en caracteres individuales. Para ello observa el siguiente código:"
   ]
  },
  {
   "cell_type": "code",
   "execution_count": 136,
   "id": "48626c1e",
   "metadata": {},
   "outputs": [],
   "source": [
    "def VOCALES(cadena):\n",
    "    vocales = [\"a\",\"e\",\"i\",\"o\",\"u\"]\n",
    "    Vocales = [\"A\",\"E\",\"I\",\"O\",\"U\"]\n",
    "    caracteres_indv = list(cadena)\n",
    "    s = 0\n",
    "    for i in caracteres_indv:\n",
    "        if i in vocales:\n",
    "            s += 1\n",
    "        elif i in Vocales:\n",
    "            s += 1\n",
    "        else:\n",
    "            s += 0\n",
    "    return s\n",
    "\n"
   ]
  },
  {
   "cell_type": "code",
   "execution_count": 137,
   "id": "2c113c76",
   "metadata": {},
   "outputs": [
    {
     "name": "stdout",
     "output_type": "stream",
     "text": [
      "La cadena de prueba tiene 10 vocales\n"
     ]
    }
   ],
   "source": [
    "n = VOCALES(\"el pErro de la tiA chOnita\")\n",
    "print(f\"La cadena de prueba tiene {n} vocales\")"
   ]
  },
  {
   "cell_type": "markdown",
   "id": "3cc71855",
   "metadata": {},
   "source": [
    "## Ejercicio 8:\n",
    "#### Escribe una clase \"calculadora\" que regrese el resultado de las operaciones de suma, resta, multiplicacion, division, modulo y potencia. La clase debe contener un método para cada operación.\n",
    "\n",
    "#### Los métodos que pudiesen presentar errores como division entre cero, deben ser manejados de tal manera que el programa no imprima ningun error (vimos una clausula para hacer esto).\n",
    "\n",
    "#### Adicional a esto, los métodos modulo y potencia deben ser generales, es decir, deben funcionar para cualquier número entero positivo (es un parámetro extra del método). Por ejemplo, la potencia de 2 elevado a 3 es 8, la potencia de 5 elevado a 3 es 125, etc.\n",
    "\n",
    "#### Crea una instancia de la clase calculadora y prueba cada uno de los métodos, con valores de tu elección. Para los métodos que pudiesen presentar errores da dos ejemplos, uno totalmente funcional (3/5 por ejemplo) y otro que sea conflictivo pero que no regresa ningún error (4/0 por ejemplo)."
   ]
  },
  {
   "cell_type": "code",
   "execution_count": 105,
   "id": "a556cd22",
   "metadata": {},
   "outputs": [
    {
     "name": "stdout",
     "output_type": "stream",
     "text": [
      "ingrese un numero: 0\n",
      "ingrese un numero: 0\n",
      "El resultado de la suma es: 0.0\n",
      "El resultado de la multiplicación es: 0.0\n",
      "El resultado de la resta es: 0.0\n",
      "La división sobre cero no está permitida\n",
      "Cero a la cero no está definido\n",
      "La división sobre cero no está permitida\n"
     ]
    }
   ],
   "source": [
    "class calculadora:\n",
    "    def __init__(self, num1, num2):\n",
    "        self.num1 = float(num1)\n",
    "        self.num2 = float(num2)\n",
    "\n",
    "    def sumar(self):\n",
    "        suma = self.num1 + self.num2\n",
    "        print(f\"El resultado de la suma es: {suma}\")\n",
    "\n",
    "    def restar(self):\n",
    "        resta = self.num1 - self.num2\n",
    "        print(f\"El resultado de la resta es: {resta}\")\n",
    "\n",
    "    def multiplicar(self):\n",
    "        multiplicacion = self.num1 * self.num2\n",
    "        print(f\"El resultado de la multiplicación es: {multiplicacion}\")\n",
    "\n",
    "    def dividir(self):\n",
    "        if self.num2 !=0:\n",
    "            division = self.num1 / self.num2\n",
    "            print(f\"El resultado de la divición es: {division} \")\n",
    "        else:\n",
    "            print(\"La división sobre cero no está permitida\")\n",
    "   \n",
    "    def potencia(self):\n",
    "        if self.num1 and self.num2 != 0:\n",
    "            pontenciar = self.num1**self.num2\n",
    "            print(f\"El resultado de la potenciación es: {pontenciar}\")\n",
    "        else:\n",
    "            print(\"Cero a la cero no está definido\")\n",
    "    \n",
    "    def residuo(self):\n",
    "        if self.num2 != 0:\n",
    "            Res = self.num1%self.num2\n",
    "            print(f\"El resultado del residuo es: {Res}\")\n",
    "        else:\n",
    "            print(\"La división sobre cero no está permitida\")\n",
    "\n",
    "num1 = input(\"ingrese un numero: \")\n",
    "num2 = input(\"ingrese un numero: \")\n",
    "\n",
    "calculadora = calculadora(num1, num2)\n",
    "calculadora.sumar()\n",
    "calculadora.multiplicar()\n",
    "calculadora.restar()\n",
    "calculadora.dividir()\n",
    "calculadora.potencia()\n",
    "calculadora.residuo()"
   ]
  },
  {
   "cell_type": "markdown",
   "id": "396211f1",
   "metadata": {},
   "source": [
    "## Ejercicio de puntos extras opcional 1:\n",
    "#### Supóngamos que tenemos una lista de números enteros y queremos encontrar el número más grande. Por ejemplo, si la lista es [1, 2, 3, 4, 5] el número más grande es 5. Crea una función que encuentre el número más grande en una lista de números. La función debe regresar el número más grande y el índice en el que se encuentra. Prueba la función con una lista de números de tu elección."
   ]
  },
  {
   "cell_type": "code",
   "execution_count": 129,
   "id": "462c612d",
   "metadata": {},
   "outputs": [
    {
     "name": "stdout",
     "output_type": "stream",
     "text": [
      "El mayor número de la lista es 16666 y su pocisión es 5\n"
     ]
    }
   ],
   "source": [
    "def mayor(L):\n",
    "    \"\"\"Esta es una función que toma una lista de números enteros y devuelve el mayor elemento así como su posición\"\"\"\n",
    "    L_n = [int(i) for i in L] #Primero convertimos la lista de strings a una de enteros\n",
    "    m = 0 #Inicializamos el valor con el que vamos a comparar\n",
    "    for n in L_n:#Comenzamos a comparar con los elementos de L_n\n",
    "        if n>m:\n",
    "            m = n #Cuando vayamos encontrando valores más grandes se irá reasignando el valor con el que comparamos\n",
    "    return m,L_n.index(m)\n",
    "            \n",
    "L = [1,1,12,1,4,16666,12345,182,1948,18]\n",
    "print(\"El mayor número de la lista es\", mayor(L)[0], \"y su pocisión es\", mayor(L)[1])"
   ]
  },
  {
   "cell_type": "markdown",
   "id": "fc2fb237",
   "metadata": {},
   "source": [
    "## Ejercicio de puntos extras opcional 2:\n",
    "#### Supóngamos que tenemos un dado convencional de seis caras. Crea una función que simule el lanzamiento de un dado. La función debe regresar un número aleatorio entre uno y seis.\n",
    "\n",
    "#### Sabemos que la probabilidad de que salga un número es de $\\frac{1}{6}$, es decir, la probabilidad de que salga un uno es de $\\frac{1}{6}$, la probabilidad de que salga un dos es de $\\frac{1}{6}$, etc.\n",
    "\n",
    "#### $\\cdot$  Prueba la función con seis lanzamientos, en una celda markdown explica porqué el resultado es dificilmente [1, 2, 3, 4, 5, 6].\n",
    "\n",
    "#### $\\cdot$ Prueba la función con mil lanzamientos, crea una grafica de barras de los resultados (investiga como puedes graficar los resultados en una grafica de barras) y explica a que distribucion se parece y porqué es así."
   ]
  },
  {
   "cell_type": "code",
   "execution_count": 2,
   "id": "f77a815d",
   "metadata": {},
   "outputs": [
    {
     "name": "stdout",
     "output_type": "stream",
     "text": [
      "[4, 4, 3, 6, 6, 3]\n"
     ]
    }
   ],
   "source": [
    "from random import *\n",
    "def Dado():\n",
    "    \"\"\"Esta función da un número aleatorio del 1 al 6, simulando la tirada de un dado de seis caras\"\"\"\n",
    "    return randint(1,6)\n",
    "\n",
    "\n",
    "Resultados = []\n",
    "for i in range(6):\n",
    "    i = Dado()\n",
    "    Resultados.append(i)\n",
    "print(Resultados)"
   ]
  },
  {
   "cell_type": "markdown",
   "id": "0922793c",
   "metadata": {},
   "source": [
    "Dificilmente será $[1,2,3,4,5,6]$ pues tendremos $6^6 = 46656$ conjuntos de resultados, y la probabilidad de obtener el caso deseado es $$P([1,2,3,4,5,6]) = \\frac{1}{46656}  = 2.143347050754458\\times 10^{-5}$$ Siendo esta probabilidad practicamente cero"
   ]
  },
  {
   "cell_type": "code",
   "execution_count": 7,
   "id": "15436c76",
   "metadata": {},
   "outputs": [
    {
     "name": "stdout",
     "output_type": "stream",
     "text": [
      "[166, 160, 163, 174, 166, 171]\n"
     ]
    },
    {
     "data": {
      "image/png": "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\n",
      "text/plain": [
       "<Figure size 640x480 with 1 Axes>"
      ]
     },
     "metadata": {},
     "output_type": "display_data"
    }
   ],
   "source": [
    "import matplotlib.pyplot as plt\n",
    "\n",
    "Resultados = []\n",
    "for i in range(1000):\n",
    "    i = Dado()\n",
    "    Resultados.append(i)\n",
    "#print(Resultados)\n",
    "c1, c2, c3, c4, c5, c6 = 0,0,0,0,0,0\n",
    "\n",
    "for i in Resultados:\n",
    "    if i == 1:\n",
    "        c1 += 1\n",
    "    elif i == 2:\n",
    "        c2 += 1\n",
    "    elif i == 3:\n",
    "        c3 += 1\n",
    "    elif i == 4:\n",
    "        c4 += 1\n",
    "    elif i == 5:\n",
    "        c5 += 1\n",
    "    elif i == 6:\n",
    "        c6 += 1\n",
    "T = [c1,c2,c3,c4,c5,c6]\n",
    "\n",
    "print(T)\n",
    "x = list(range(1,7))\n",
    "plt.bar(x, T, width=0.5, color = 'g')\n",
    "plt.xlabel('Cara')\n",
    "plt.ylabel('Conteo')\n",
    "plt.show()"
   ]
  },
  {
   "cell_type": "markdown",
   "id": "0e81f13f",
   "metadata": {},
   "source": [
    "Se asemeja a una distribución uniforme discreta, pues posible obtener 1,2,...,6 como resultado de tirar el dado, más no un 1.3, 5.4 ó 4.6, además de ser uniforme, pues todos los resultados tienen la misma probabilidad de salir, la cual es $\\frac{1}{6}$ y entre más tiros hagamos, la distribuición se verá más uniforme, pues cada resultado se irá acercando a $\\frac{1}{6}$."

#comentario para hacer segundo commit
   ]
  }
 ],
 "metadata": {
  "kernelspec": {
   "display_name": "Python 3 (ipykernel)",
   "language": "python",
   "name": "python3"
  },
  "language_info": {
   "codemirror_mode": {
    "name": "ipython",
    "version": 3
   },
   "file_extension": ".py",
   "mimetype": "text/x-python",
   "name": "python",
   "nbconvert_exporter": "python",
   "pygments_lexer": "ipython3",
   "version": "3.9.13"
  }
 },
 "nbformat": 4,
 "nbformat_minor": 5
}
